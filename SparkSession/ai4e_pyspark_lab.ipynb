{
 "cells": [
  {
   "cell_type": "markdown",
   "metadata": {},
   "source": [
    "# Processing data using Spark Dataframe with Pyspark"
   ]
  },
  {
   "cell_type": "code",
   "execution_count": 1,
   "metadata": {
    "ExecuteTime": {
     "end_time": "2024-03-29T11:13:37.453986Z",
     "start_time": "2024-03-29T11:13:37.444644Z"
    }
   },
   "outputs": [],
   "source": [
    "\n",
    "# docker run --name pyspark_jupyter_notebook -it -p 8888:8888 -p 4040:4040 -i jupyter/pyspark-notebook:latest"
   ]
  },
  {
   "cell_type": "code",
   "execution_count": 2,
   "metadata": {
    "ExecuteTime": {
     "end_time": "2024-03-29T11:14:05.402357Z",
     "start_time": "2024-03-29T11:13:37.469004Z"
    }
   },
   "outputs": [
    {
     "name": "stdout",
     "output_type": "stream",
     "text": [
      "INFO:root:Spark Version :3.5.0\n"
     ]
    }
   ],
   "source": [
    "import sys\n",
    "from pyspark.sql import SparkSession\n",
    "from pyspark.sql import functions as F\n",
    "from pyspark.sql import types as T\n",
    "from pyspark.sql.dataframe import DataFrame\n",
    "from pyspark.sql import SparkSession\n",
    "from pyspark.sql.functions import udf\n",
    "import logging\n",
    "import sys\n",
    "from pyspark import StorageLevel\n",
    "from pyspark.sql.types import *\n",
    "import logging\n",
    "import sys\n",
    "from datetime import datetime, date, timedelta\n",
    "import pytz\n",
    "\n",
    "import json\n",
    "import boto3\n",
    "import time\n",
    "\n",
    "spark = SparkSession.builder.appName(\"mine\")\\\n",
    "    .config(\"spark.jars\", \"../jar/postgresql-42.7.2.jar\") \\\n",
    "    .config(\"spark.sql.catalogImplementation\", \"hive\") \\\n",
    "    .config(\"spark.sql.legacy.timeParserPolicy\", \"LEGACY\") \\\n",
    "    .enableHiveSupport() \\\n",
    "    .getOrCreate()\n",
    "\n",
    "import logging\n",
    "logging.basicConfig(stream=sys.stdout, level=logging.DEBUG)\n",
    "logger = logging.getLogger()\n",
    "logger.setLevel(logging.INFO)\n",
    "\n",
    "logger.info('Spark Version :'+spark.version)"
   ]
  },
  {
   "cell_type": "markdown",
   "metadata": {},
   "source": [
    "### Exercise 1: Use movielens dataset for the following exercise\n",
    "https://grouplens.org/datasets/movielens/latest/\n",
    "\n",
    "1. Load movies.csv as movies dataframe. Cache the dataframe\n",
    "2. Load ratings.csv as ratings dataframe. Cache the dataframe\n",
    "3. Find the number of records in movies dataframe\n",
    "4. Find the number of records in ratings dataframe\n",
    "5. Validate the userId and movieId combination is unique\n",
    "6. Find average rating and count of rating per movieId using ratings dataframe\n",
    "7. Find top 10 movies based on the highest average ratings. Consider only those movies that have at least 100 ratings. Show movieId, title, average rating and rating count columns.\n",
    "8. Show temporary views for current Spark session\n",
    "9. Register movies dataframe and ratings dayaframe as movies and ratings temporary view respectively. Verify that you can see the new temporary views you just created.\n",
    "10. Using SQL statement, solve the problem statement for step #7. Match the results from step #7.\n",
    "11. Find average rating of each genre"
   ]
  },
  {
   "cell_type": "code",
   "execution_count": 3,
   "metadata": {
    "ExecuteTime": {
     "end_time": "2024-03-29T11:14:21.313314Z",
     "start_time": "2024-03-29T11:14:05.411509Z"
    }
   },
   "outputs": [
    {
     "name": "stdout",
     "output_type": "stream",
     "text": [
      "9742\n",
      "+-------+--------------------+--------------------+\n",
      "|movieId|               title|              genres|\n",
      "+-------+--------------------+--------------------+\n",
      "|      1|    Toy Story (1995)|Adventure|Animati...|\n",
      "|      2|      Jumanji (1995)|Adventure|Childre...|\n",
      "|      3|Grumpier Old Men ...|      Comedy|Romance|\n",
      "|      4|Waiting to Exhale...|Comedy|Drama|Romance|\n",
      "|      5|Father of the Bri...|              Comedy|\n",
      "|      6|         Heat (1995)|Action|Crime|Thri...|\n",
      "|      7|      Sabrina (1995)|      Comedy|Romance|\n",
      "|      8| Tom and Huck (1995)|  Adventure|Children|\n",
      "|      9| Sudden Death (1995)|              Action|\n",
      "|     10|    GoldenEye (1995)|Action|Adventure|...|\n",
      "|     11|American Presiden...|Comedy|Drama|Romance|\n",
      "|     12|Dracula: Dead and...|       Comedy|Horror|\n",
      "|     13|        Balto (1995)|Adventure|Animati...|\n",
      "|     14|        Nixon (1995)|               Drama|\n",
      "|     15|Cutthroat Island ...|Action|Adventure|...|\n",
      "|     16|       Casino (1995)|         Crime|Drama|\n",
      "|     17|Sense and Sensibi...|       Drama|Romance|\n",
      "|     18|   Four Rooms (1995)|              Comedy|\n",
      "|     19|Ace Ventura: When...|              Comedy|\n",
      "|     20|  Money Train (1995)|Action|Comedy|Cri...|\n",
      "+-------+--------------------+--------------------+\n",
      "only showing top 20 rows\n"
     ]
    }
   ],
   "source": [
    "movies = spark.read.option(\"header\", \"true\").csv(\"ml-latest-small/movies.csv\").cache()\n",
    "print(movies.count())\n",
    "movies.show()"
   ]
  },
  {
   "cell_type": "code",
   "execution_count": 4,
   "metadata": {
    "ExecuteTime": {
     "end_time": "2024-03-29T11:14:22.877718Z",
     "start_time": "2024-03-29T11:14:21.317472Z"
    }
   },
   "outputs": [
    {
     "name": "stdout",
     "output_type": "stream",
     "text": [
      "100836\n",
      "+------+-------+------+---------+\n",
      "|userId|movieId|rating|timestamp|\n",
      "+------+-------+------+---------+\n",
      "|     1|      1|   4.0|964982703|\n",
      "|     1|      3|   4.0|964981247|\n",
      "|     1|      6|   4.0|964982224|\n",
      "|     1|     47|   5.0|964983815|\n",
      "|     1|     50|   5.0|964982931|\n",
      "|     1|     70|   3.0|964982400|\n",
      "|     1|    101|   5.0|964980868|\n",
      "|     1|    110|   4.0|964982176|\n",
      "|     1|    151|   5.0|964984041|\n",
      "|     1|    157|   5.0|964984100|\n",
      "|     1|    163|   5.0|964983650|\n",
      "|     1|    216|   5.0|964981208|\n",
      "|     1|    223|   3.0|964980985|\n",
      "|     1|    231|   5.0|964981179|\n",
      "|     1|    235|   4.0|964980908|\n",
      "|     1|    260|   5.0|964981680|\n",
      "|     1|    296|   3.0|964982967|\n",
      "|     1|    316|   3.0|964982310|\n",
      "|     1|    333|   5.0|964981179|\n",
      "|     1|    349|   4.0|964982563|\n",
      "+------+-------+------+---------+\n",
      "only showing top 20 rows\n"
     ]
    }
   ],
   "source": [
    "ratings = spark.read.option(\"header\", \"true\").csv(\"ml-latest-small/ratings.csv\").cache()\n",
    "print(ratings.count())\n",
    "ratings.show()"
   ]
  },
  {
   "cell_type": "code",
   "execution_count": 6,
   "metadata": {
    "ExecuteTime": {
     "end_time": "2024-03-29T11:15:57.155690Z",
     "start_time": "2024-03-29T11:15:50.938839Z"
    }
   },
   "outputs": [
    {
     "name": "stdout",
     "output_type": "stream",
     "text": [
      "0\n"
     ]
    }
   ],
   "source": [
    "unique_count = ratings.groupBy(\"userId\", \"movieId\").count().filter(\"count > 1\").count()\n",
    "print(unique_count)"
   ]
  },
  {
   "cell_type": "code",
   "execution_count": 21,
   "metadata": {
    "ExecuteTime": {
     "end_time": "2024-03-29T11:49:35.484978Z",
     "start_time": "2024-03-29T11:49:33.396788Z"
    }
   },
   "outputs": [
    {
     "name": "stdout",
     "output_type": "stream",
     "text": [
      "+-------+------------------+------------+\n",
      "|movieId|    average_rating|rating_count|\n",
      "+-------+------------------+------------+\n",
      "|    296| 4.197068403908795|         307|\n",
      "|   1090| 3.984126984126984|          63|\n",
      "| 115713|3.9107142857142856|          28|\n",
      "|   3210|3.4761904761904763|          42|\n",
      "|  88140|          3.546875|          32|\n",
      "|    829|2.6666666666666665|           9|\n",
      "|   2088|               2.5|          18|\n",
      "|   2294|3.2444444444444445|          45|\n",
      "|   4821|               3.1|           5|\n",
      "|  48738|             3.975|          20|\n",
      "|   3959|             3.625|           8|\n",
      "|  89864|3.6315789473684212|          19|\n",
      "|   2136|2.4642857142857144|          14|\n",
      "|    691|3.3333333333333335|           3|\n",
      "|   3606|              3.75|           4|\n",
      "| 121007|               4.0|           1|\n",
      "|   6731|             3.625|           8|\n",
      "|  27317|              3.75|           6|\n",
      "|  26082|               4.5|           3|\n",
      "| 100553|               4.5|           2|\n",
      "+-------+------------------+------------+\n"
     ]
    }
   ],
   "source": [
    "average_rating = ratings.groupBy(\"movieId\").agg(F.avg(\"rating\").alias(\"average_rating\") , F.count(\"rating\").alias(\"rating_count\"))\n",
    "average_rating.show()"
   ]
  },
  {
   "cell_type": "code",
   "execution_count": 22,
   "metadata": {
    "ExecuteTime": {
     "end_time": "2024-03-29T11:49:36.910966Z",
     "start_time": "2024-03-29T11:49:36.591030Z"
    }
   },
   "outputs": [
    {
     "name": "stdout",
     "output_type": "stream",
     "text": [
      "+-------+--------------------+--------------------+------+-------+------+---------+\n",
      "|movieId|               title|              genres|userId|movieId|rating|timestamp|\n",
      "+-------+--------------------+--------------------+------+-------+------+---------+\n",
      "|      1|    Toy Story (1995)|Adventure|Animati...|     1|      1|   4.0|964982703|\n",
      "|      3|Grumpier Old Men ...|      Comedy|Romance|     1|      3|   4.0|964981247|\n",
      "|      6|         Heat (1995)|Action|Crime|Thri...|     1|      6|   4.0|964982224|\n",
      "|     47|Seven (a.k.a. Se7...|    Mystery|Thriller|     1|     47|   5.0|964983815|\n",
      "|     50|Usual Suspects, T...|Crime|Mystery|Thr...|     1|     50|   5.0|964982931|\n",
      "|     70|From Dusk Till Da...|Action|Comedy|Hor...|     1|     70|   3.0|964982400|\n",
      "|    101|Bottle Rocket (1996)|Adventure|Comedy|...|     1|    101|   5.0|964980868|\n",
      "|    110|   Braveheart (1995)|    Action|Drama|War|     1|    110|   4.0|964982176|\n",
      "|    151|      Rob Roy (1995)|Action|Drama|Roma...|     1|    151|   5.0|964984041|\n",
      "|    157|Canadian Bacon (1...|          Comedy|War|     1|    157|   5.0|964984100|\n",
      "|    163|    Desperado (1995)|Action|Romance|We...|     1|    163|   5.0|964983650|\n",
      "|    216|Billy Madison (1995)|              Comedy|     1|    216|   5.0|964981208|\n",
      "|    223|       Clerks (1994)|              Comedy|     1|    223|   3.0|964980985|\n",
      "|    231|Dumb & Dumber (Du...|    Adventure|Comedy|     1|    231|   5.0|964981179|\n",
      "|    235|      Ed Wood (1994)|        Comedy|Drama|     1|    235|   4.0|964980908|\n",
      "|    260|Star Wars: Episod...|Action|Adventure|...|     1|    260|   5.0|964981680|\n",
      "|    296| Pulp Fiction (1994)|Comedy|Crime|Dram...|     1|    296|   3.0|964982967|\n",
      "|    316|     Stargate (1994)|Action|Adventure|...|     1|    316|   3.0|964982310|\n",
      "|    333|    Tommy Boy (1995)|              Comedy|     1|    333|   5.0|964981179|\n",
      "|    349|Clear and Present...|Action|Crime|Dram...|     1|    349|   4.0|964982563|\n",
      "+-------+--------------------+--------------------+------+-------+------+---------+\n"
     ]
    }
   ],
   "source": [
    "tmp = movies.join(ratings, movies[\"movieId\"] == ratings[\"movieId\"], \"inner\").show()"
   ]
  },
  {
   "cell_type": "code",
   "execution_count": 23,
   "metadata": {
    "ExecuteTime": {
     "end_time": "2024-03-29T11:49:40.742753Z",
     "start_time": "2024-03-29T11:49:37.960604Z"
    }
   },
   "outputs": [
    {
     "name": "stdout",
     "output_type": "stream",
     "text": [
      "+--------------------+-----------------+------------+\n",
      "|               title|   average_rating|rating_count|\n",
      "+--------------------+-----------------+------------+\n",
      "|Shawshank Redempt...|4.429022082018927|         317|\n",
      "|Godfather, The (1...|        4.2890625|         192|\n",
      "|   Fight Club (1999)|4.272935779816514|         218|\n",
      "|Godfather: Part I...| 4.25968992248062|         129|\n",
      "|Departed, The (2006)|4.252336448598131|         107|\n",
      "|   Goodfellas (1990)|             4.25|         126|\n",
      "|Dark Knight, The ...|4.238255033557047|         149|\n",
      "|Usual Suspects, T...|4.237745098039215|         204|\n",
      "|Princess Bride, T...|4.232394366197183|         142|\n",
      "|Star Wars: Episod...|4.231075697211155|         251|\n",
      "+--------------------+-----------------+------------+\n"
     ]
    }
   ],
   "source": [
    "movies_10 = average_rating.join(movies, average_rating[\"movieId\"]==movies[\"movieId\"], \"inner\").select(\"title\", \"average_rating\", \"rating_count\").filter(F.col(\"rating_count\") > 100).orderBy(F.desc(\"average_rating\")).limit(10)\n",
    "movies_10.show()"
   ]
  },
  {
   "cell_type": "code",
   "execution_count": 5,
   "metadata": {
    "ExecuteTime": {
     "end_time": "2024-03-29T11:14:22.964071Z",
     "start_time": "2024-03-29T11:14:22.959119Z"
    }
   },
   "outputs": [],
   "source": []
  },
  {
   "cell_type": "code",
   "execution_count": 5,
   "metadata": {
    "ExecuteTime": {
     "end_time": "2024-03-29T11:14:22.971558Z",
     "start_time": "2024-03-29T11:14:22.966839Z"
    }
   },
   "outputs": [],
   "source": []
  },
  {
   "cell_type": "markdown",
   "metadata": {},
   "source": [
    "### Exercise 2: Read data from jdbc + hive table\n",
    "\n",
    "1. Create 3 dataframe - payment_transaction, account, customer in Spark based on payment_transaction table in demo_test\n",
    "2. Save payment_transaction, account, customer as parquet file in HDFS\n",
    "3. Save the payment_transaction dataframe as hive table. Verify that payment_transaction table is accessible in hive as well.\n",
    "4. Delete the payment_transaction table from hive."
   ]
  },
  {
   "cell_type": "markdown",
   "metadata": {
    "collapsed": true
   },
   "source": [
    "### Exercise 3: Data partitioning\n",
    "\n",
    "1. Create a dataframe in Spark that refers to Hive table payment_transaction.\n",
    "2. Find total number of rows. \n",
    "3. Parse the time column as date time\n",
    "4. Save the payment_transaction data with partitioned by year and month based on the time field that you parsed\n",
    "5. Reload the partitioned dataset and verify the number of record maches with the original.\n"
   ]
  },
  {
   "cell_type": "markdown",
   "metadata": {},
   "source": [
    "# Exercise 4: Data format\n",
    "\n",
    "Save payment_transaction.csv dataset in the following formats and compare the size on disk\n",
    "\n",
    "1. csv \n",
    "2. Json\n",
    "3. Parquet"
   ]
  },
  {
   "cell_type": "markdown",
   "metadata": {},
   "source": [
    " - CSV file format: ? MB\n",
    " - CSV gzip compressed: ? MB\n",
    " - Json uncompressed: ? MB\n",
    " - Parquet snappy compressed: ? MB"
   ]
  }
 ],
 "metadata": {
  "kernelspec": {
   "display_name": "Python 3 (ipykernel)",
   "language": "python",
   "name": "python3"
  },
  "language_info": {
   "codemirror_mode": {
    "name": "ipython",
    "version": 3
   },
   "file_extension": ".py",
   "mimetype": "text/x-python",
   "name": "python",
   "nbconvert_exporter": "python",
   "pygments_lexer": "ipython3",
   "version": "3.9.18"
  }
 },
 "nbformat": 4,
 "nbformat_minor": 4
}
